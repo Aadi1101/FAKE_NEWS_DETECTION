{
 "cells": [
  {
   "cell_type": "code",
   "execution_count": 46,
   "metadata": {},
   "outputs": [],
   "source": [
    "import numpy as np\n",
    "import pandas as pd\n"
   ]
  },
  {
   "cell_type": "code",
   "execution_count": 47,
   "metadata": {},
   "outputs": [],
   "source": [
    "df = pd.read_csv('./dataset/data.csv')\n"
   ]
  },
  {
   "cell_type": "code",
   "execution_count": 48,
   "metadata": {},
   "outputs": [
    {
     "data": {
      "text/html": [
       "<div>\n",
       "<style scoped>\n",
       "    .dataframe tbody tr th:only-of-type {\n",
       "        vertical-align: middle;\n",
       "    }\n",
       "\n",
       "    .dataframe tbody tr th {\n",
       "        vertical-align: top;\n",
       "    }\n",
       "\n",
       "    .dataframe thead th {\n",
       "        text-align: right;\n",
       "    }\n",
       "</style>\n",
       "<table border=\"1\" class=\"dataframe\">\n",
       "  <thead>\n",
       "    <tr style=\"text-align: right;\">\n",
       "      <th></th>\n",
       "      <th>URLs</th>\n",
       "      <th>Headline</th>\n",
       "      <th>Body</th>\n",
       "      <th>Label</th>\n",
       "    </tr>\n",
       "  </thead>\n",
       "  <tbody>\n",
       "    <tr>\n",
       "      <th>0</th>\n",
       "      <td>http://www.bbc.com/news/world-us-canada-414191...</td>\n",
       "      <td>Four ways Bob Corker skewered Donald Trump</td>\n",
       "      <td>Image copyright Getty Images\\nOn Sunday mornin...</td>\n",
       "      <td>1</td>\n",
       "    </tr>\n",
       "    <tr>\n",
       "      <th>1</th>\n",
       "      <td>https://www.reuters.com/article/us-filmfestiva...</td>\n",
       "      <td>Linklater's war veteran comedy speaks to moder...</td>\n",
       "      <td>LONDON (Reuters) - “Last Flag Flying”, a comed...</td>\n",
       "      <td>1</td>\n",
       "    </tr>\n",
       "    <tr>\n",
       "      <th>2</th>\n",
       "      <td>https://www.nytimes.com/2017/10/09/us/politics...</td>\n",
       "      <td>Trump’s Fight With Corker Jeopardizes His Legi...</td>\n",
       "      <td>The feud broke into public view last week when...</td>\n",
       "      <td>1</td>\n",
       "    </tr>\n",
       "    <tr>\n",
       "      <th>3</th>\n",
       "      <td>https://www.reuters.com/article/us-mexico-oil-...</td>\n",
       "      <td>Egypt's Cheiron wins tie-up with Pemex for Mex...</td>\n",
       "      <td>MEXICO CITY (Reuters) - Egypt’s Cheiron Holdin...</td>\n",
       "      <td>1</td>\n",
       "    </tr>\n",
       "    <tr>\n",
       "      <th>4</th>\n",
       "      <td>http://www.cnn.com/videos/cnnmoney/2017/10/08/...</td>\n",
       "      <td>Jason Aldean opens 'SNL' with Vegas tribute</td>\n",
       "      <td>Country singer Jason Aldean, who was performin...</td>\n",
       "      <td>1</td>\n",
       "    </tr>\n",
       "  </tbody>\n",
       "</table>\n",
       "</div>"
      ],
      "text/plain": [
       "                                                URLs  \\\n",
       "0  http://www.bbc.com/news/world-us-canada-414191...   \n",
       "1  https://www.reuters.com/article/us-filmfestiva...   \n",
       "2  https://www.nytimes.com/2017/10/09/us/politics...   \n",
       "3  https://www.reuters.com/article/us-mexico-oil-...   \n",
       "4  http://www.cnn.com/videos/cnnmoney/2017/10/08/...   \n",
       "\n",
       "                                            Headline  \\\n",
       "0         Four ways Bob Corker skewered Donald Trump   \n",
       "1  Linklater's war veteran comedy speaks to moder...   \n",
       "2  Trump’s Fight With Corker Jeopardizes His Legi...   \n",
       "3  Egypt's Cheiron wins tie-up with Pemex for Mex...   \n",
       "4        Jason Aldean opens 'SNL' with Vegas tribute   \n",
       "\n",
       "                                                Body  Label  \n",
       "0  Image copyright Getty Images\\nOn Sunday mornin...      1  \n",
       "1  LONDON (Reuters) - “Last Flag Flying”, a comed...      1  \n",
       "2  The feud broke into public view last week when...      1  \n",
       "3  MEXICO CITY (Reuters) - Egypt’s Cheiron Holdin...      1  \n",
       "4  Country singer Jason Aldean, who was performin...      1  "
      ]
     },
     "execution_count": 48,
     "metadata": {},
     "output_type": "execute_result"
    }
   ],
   "source": [
    "df.head()"
   ]
  },
  {
   "cell_type": "code",
   "execution_count": 49,
   "metadata": {},
   "outputs": [
    {
     "data": {
      "text/plain": [
       "URLs         0\n",
       "Headline     0\n",
       "Body        21\n",
       "Label        0\n",
       "dtype: int64"
      ]
     },
     "execution_count": 49,
     "metadata": {},
     "output_type": "execute_result"
    }
   ],
   "source": [
    "df.isnull().sum()"
   ]
  },
  {
   "cell_type": "code",
   "execution_count": 50,
   "metadata": {},
   "outputs": [],
   "source": [
    "df['Body'] = df['Body'].fillna('')"
   ]
  },
  {
   "cell_type": "code",
   "execution_count": 51,
   "metadata": {},
   "outputs": [
    {
     "data": {
      "text/plain": [
       "URLs        0\n",
       "Headline    0\n",
       "Body        0\n",
       "Label       0\n",
       "dtype: int64"
      ]
     },
     "execution_count": 51,
     "metadata": {},
     "output_type": "execute_result"
    }
   ],
   "source": [
    "df.isnull().sum()"
   ]
  },
  {
   "cell_type": "code",
   "execution_count": 52,
   "metadata": {},
   "outputs": [],
   "source": [
    "x = df['Body']\n",
    "y = df['Label'] # 0 - Reliable , 1 - Fake"
   ]
  },
  {
   "cell_type": "code",
   "execution_count": 53,
   "metadata": {},
   "outputs": [
    {
     "data": {
      "text/html": [
       "<div>\n",
       "<style scoped>\n",
       "    .dataframe tbody tr th:only-of-type {\n",
       "        vertical-align: middle;\n",
       "    }\n",
       "\n",
       "    .dataframe tbody tr th {\n",
       "        vertical-align: top;\n",
       "    }\n",
       "\n",
       "    .dataframe thead th {\n",
       "        text-align: right;\n",
       "    }\n",
       "</style>\n",
       "<table border=\"1\" class=\"dataframe\">\n",
       "  <thead>\n",
       "    <tr style=\"text-align: right;\">\n",
       "      <th></th>\n",
       "      <th>URLs</th>\n",
       "      <th>Headline</th>\n",
       "      <th>Body</th>\n",
       "      <th>Label</th>\n",
       "    </tr>\n",
       "  </thead>\n",
       "  <tbody>\n",
       "    <tr>\n",
       "      <th>0</th>\n",
       "      <td>http://www.bbc.com/news/world-us-canada-414191...</td>\n",
       "      <td>Four ways Bob Corker skewered Donald Trump</td>\n",
       "      <td>Image copyright Getty Images\\nOn Sunday mornin...</td>\n",
       "      <td>1</td>\n",
       "    </tr>\n",
       "    <tr>\n",
       "      <th>1</th>\n",
       "      <td>https://www.reuters.com/article/us-filmfestiva...</td>\n",
       "      <td>Linklater's war veteran comedy speaks to moder...</td>\n",
       "      <td>LONDON (Reuters) - “Last Flag Flying”, a comed...</td>\n",
       "      <td>1</td>\n",
       "    </tr>\n",
       "    <tr>\n",
       "      <th>2</th>\n",
       "      <td>https://www.nytimes.com/2017/10/09/us/politics...</td>\n",
       "      <td>Trump’s Fight With Corker Jeopardizes His Legi...</td>\n",
       "      <td>The feud broke into public view last week when...</td>\n",
       "      <td>1</td>\n",
       "    </tr>\n",
       "    <tr>\n",
       "      <th>3</th>\n",
       "      <td>https://www.reuters.com/article/us-mexico-oil-...</td>\n",
       "      <td>Egypt's Cheiron wins tie-up with Pemex for Mex...</td>\n",
       "      <td>MEXICO CITY (Reuters) - Egypt’s Cheiron Holdin...</td>\n",
       "      <td>1</td>\n",
       "    </tr>\n",
       "    <tr>\n",
       "      <th>4</th>\n",
       "      <td>http://www.cnn.com/videos/cnnmoney/2017/10/08/...</td>\n",
       "      <td>Jason Aldean opens 'SNL' with Vegas tribute</td>\n",
       "      <td>Country singer Jason Aldean, who was performin...</td>\n",
       "      <td>1</td>\n",
       "    </tr>\n",
       "  </tbody>\n",
       "</table>\n",
       "</div>"
      ],
      "text/plain": [
       "                                                URLs  \\\n",
       "0  http://www.bbc.com/news/world-us-canada-414191...   \n",
       "1  https://www.reuters.com/article/us-filmfestiva...   \n",
       "2  https://www.nytimes.com/2017/10/09/us/politics...   \n",
       "3  https://www.reuters.com/article/us-mexico-oil-...   \n",
       "4  http://www.cnn.com/videos/cnnmoney/2017/10/08/...   \n",
       "\n",
       "                                            Headline  \\\n",
       "0         Four ways Bob Corker skewered Donald Trump   \n",
       "1  Linklater's war veteran comedy speaks to moder...   \n",
       "2  Trump’s Fight With Corker Jeopardizes His Legi...   \n",
       "3  Egypt's Cheiron wins tie-up with Pemex for Mex...   \n",
       "4        Jason Aldean opens 'SNL' with Vegas tribute   \n",
       "\n",
       "                                                Body  Label  \n",
       "0  Image copyright Getty Images\\nOn Sunday mornin...      1  \n",
       "1  LONDON (Reuters) - “Last Flag Flying”, a comed...      1  \n",
       "2  The feud broke into public view last week when...      1  \n",
       "3  MEXICO CITY (Reuters) - Egypt’s Cheiron Holdin...      1  \n",
       "4  Country singer Jason Aldean, who was performin...      1  "
      ]
     },
     "execution_count": 53,
     "metadata": {},
     "output_type": "execute_result"
    }
   ],
   "source": [
    "df.head()"
   ]
  },
  {
   "cell_type": "code",
   "execution_count": 54,
   "metadata": {},
   "outputs": [],
   "source": [
    "df['News'] = df['Headline']+df['Body']\n",
    "features_dropped = ['URLs','Headline','Body']\n",
    "df = df.drop(features_dropped, axis =1)"
   ]
  },
  {
   "cell_type": "code",
   "execution_count": 55,
   "metadata": {},
   "outputs": [
    {
     "data": {
      "text/html": [
       "<div>\n",
       "<style scoped>\n",
       "    .dataframe tbody tr th:only-of-type {\n",
       "        vertical-align: middle;\n",
       "    }\n",
       "\n",
       "    .dataframe tbody tr th {\n",
       "        vertical-align: top;\n",
       "    }\n",
       "\n",
       "    .dataframe thead th {\n",
       "        text-align: right;\n",
       "    }\n",
       "</style>\n",
       "<table border=\"1\" class=\"dataframe\">\n",
       "  <thead>\n",
       "    <tr style=\"text-align: right;\">\n",
       "      <th></th>\n",
       "      <th>Label</th>\n",
       "      <th>News</th>\n",
       "    </tr>\n",
       "  </thead>\n",
       "  <tbody>\n",
       "    <tr>\n",
       "      <th>0</th>\n",
       "      <td>1</td>\n",
       "      <td>Four ways Bob Corker skewered Donald TrumpImag...</td>\n",
       "    </tr>\n",
       "    <tr>\n",
       "      <th>1</th>\n",
       "      <td>1</td>\n",
       "      <td>Linklater's war veteran comedy speaks to moder...</td>\n",
       "    </tr>\n",
       "    <tr>\n",
       "      <th>2</th>\n",
       "      <td>1</td>\n",
       "      <td>Trump’s Fight With Corker Jeopardizes His Legi...</td>\n",
       "    </tr>\n",
       "    <tr>\n",
       "      <th>3</th>\n",
       "      <td>1</td>\n",
       "      <td>Egypt's Cheiron wins tie-up with Pemex for Mex...</td>\n",
       "    </tr>\n",
       "    <tr>\n",
       "      <th>4</th>\n",
       "      <td>1</td>\n",
       "      <td>Jason Aldean opens 'SNL' with Vegas tributeCou...</td>\n",
       "    </tr>\n",
       "  </tbody>\n",
       "</table>\n",
       "</div>"
      ],
      "text/plain": [
       "   Label                                               News\n",
       "0      1  Four ways Bob Corker skewered Donald TrumpImag...\n",
       "1      1  Linklater's war veteran comedy speaks to moder...\n",
       "2      1  Trump’s Fight With Corker Jeopardizes His Legi...\n",
       "3      1  Egypt's Cheiron wins tie-up with Pemex for Mex...\n",
       "4      1  Jason Aldean opens 'SNL' with Vegas tributeCou..."
      ]
     },
     "execution_count": 55,
     "metadata": {},
     "output_type": "execute_result"
    }
   ],
   "source": [
    "df.head()"
   ]
  },
  {
   "cell_type": "code",
   "execution_count": 56,
   "metadata": {},
   "outputs": [],
   "source": [
    "from sklearn.model_selection import train_test_split\n",
    "from sklearn.feature_extraction.text import TfidfVectorizer\n",
    "from sklearn.linear_model import PassiveAggressiveClassifier\n",
    "from sklearn.metrics import accuracy_score, confusion_matrix"
   ]
  },
  {
   "cell_type": "code",
   "execution_count": 57,
   "metadata": {},
   "outputs": [],
   "source": [
    "x_train,x_test,y_train,y_test = train_test_split(x,y,test_size=0.2,random_state=0)"
   ]
  },
  {
   "cell_type": "code",
   "execution_count": 58,
   "metadata": {},
   "outputs": [],
   "source": [
    "tfvect = TfidfVectorizer(stop_words='english',max_df=0.7)\n",
    "tfidf_x_train = tfvect.fit(x_train)\n",
    "tfid_x_train = tfvect.transform(x_train)\n",
    "tfid_x_test = tfvect.transform(x_test)"
   ]
  },
  {
   "cell_type": "code",
   "execution_count": 59,
   "metadata": {},
   "outputs": [
    {
     "data": {
      "text/plain": [
       "PassiveAggressiveClassifier(max_iter=50)"
      ]
     },
     "execution_count": 59,
     "metadata": {},
     "output_type": "execute_result"
    }
   ],
   "source": [
    "classifier = PassiveAggressiveClassifier(max_iter=50)\n",
    "classifier.fit(tfid_x_train,y_train)"
   ]
  },
  {
   "cell_type": "code",
   "execution_count": 60,
   "metadata": {},
   "outputs": [
    {
     "name": "stdout",
     "output_type": "stream",
     "text": [
      "Accuracy: 98.25%\n"
     ]
    }
   ],
   "source": [
    "y_pred = classifier.predict(tfid_x_test)\n",
    "score = accuracy_score(y_test,y_pred)\n",
    "print(f'Accuracy: {round(score*100,2)}%')"
   ]
  },
  {
   "cell_type": "code",
   "execution_count": 61,
   "metadata": {},
   "outputs": [
    {
     "name": "stdout",
     "output_type": "stream",
     "text": [
      "[[425   8]\n",
      " [  6 363]]\n"
     ]
    }
   ],
   "source": [
    "cf = confusion_matrix(y_test,y_pred)\n",
    "print(cf)"
   ]
  },
  {
   "cell_type": "code",
   "execution_count": 62,
   "metadata": {},
   "outputs": [],
   "source": [
    "def fake_news_det(news):\n",
    "    input_data = [news]\n",
    "    vectorized_input_data = tfvect.transform(input_data)\n",
    "    prediction = classifier.predict(vectorized_input_data)\n",
    "    print(prediction)"
   ]
  },
  {
   "cell_type": "code",
   "execution_count": 63,
   "metadata": {},
   "outputs": [
    {
     "name": "stdout",
     "output_type": "stream",
     "text": [
      "[1]\n"
     ]
    }
   ],
   "source": [
    "fake_news_det('U.S. Secretary of State John F. Kerry said Monday that he will stop in Paris later this week, amid criticism that no top American officials attended Sundayâ€™s unity march against terrorism.')"
   ]
  },
  {
   "cell_type": "code",
   "execution_count": 64,
   "metadata": {},
   "outputs": [
    {
     "name": "stdout",
     "output_type": "stream",
     "text": [
      "[0]\n"
     ]
    }
   ],
   "source": [
    "fake_news_det(\"\"\"Go to Article \n",
    "President Barack Obama has been campaigning hard for the woman who is supposedly going to extend his legacy four more years. The only problem with stumping for Hillary Clinton, however, is sheâ€™s not exactly a candidate easy to get too enthused about.  \"\"\")"
   ]
  },
  {
   "cell_type": "code",
   "execution_count": 65,
   "metadata": {},
   "outputs": [
    {
     "name": "stdout",
     "output_type": "stream",
     "text": [
      "Ukraine war: Czech crowdfunding buys 'Tomas the tank' for Ukraine=>More than 10,000 people donated to the fund, which will supply a modernised T-72 tank named Tomas.\n",
      "******************************************\n",
      "Ukraine war: 'I'd rather go to jail than fight in Ukraine', Russian man says=>Russia has mobilised many thousands of men to fight in Ukraine. But Mikhail Ashichev refuses to go.\n",
      "******************************************\n",
      "Ukraine round-up: Inside liberated Lyman and Ukraine makes further ground against Russia=>A report from a liberated town, territorial gains for Ukraine, and a beauty queen fined over a song.\n",
      "******************************************\n",
      "Ukraine war: Grain ships leave Ukraine ports despite Russian pull-out=>Ukraine says 12 vessels sail from its ports but Russia warns this is too risky after leaving a key deal.\n",
      "******************************************\n",
      "Ukraine regains Kherson villages from Russians=>Russia's latest setbacks came as President Putin was due to sign into force annexation decrees.\n",
      "******************************************\n",
      "Ukraine: Flags being raised in retaken areas=>Soldiers are currently fighting Russians forces in the east and south of the country.\n",
      "******************************************\n",
      "What is a ‘dirty bomb’ and why does Russia claim Ukraine might use one?=>Russia’s defence minister has made claims that Ukraine could explode a 'dirty bomb'.\n",
      "******************************************\n",
      "The Ukrainian jet pilots hunting cruise missiles=>Russia has launched hundreds of missiles and drone attacks on Ukraine in the past few weeks.\n",
      "******************************************\n",
      "Ukraine war: Putin suspends Black Sea grain exports deal=>Despite the fallout, Ukraine says 12 vessels carrying grain sailed from its ports on Monday.\n",
      "******************************************\n",
      "Ukraine war round-up: Putin 'has no regrets', and joining the 'huge vibe'=>Russia's president tries to defend his invasion, and Ukraine gets a dance music boost.\n",
      "******************************************\n",
      "Israel’s balancing act over Ukraine grows trickier after drone strikes=>Israel has refrained from providing Ukraine with weapons in a bid to maintain relations with Russia.\n",
      "******************************************\n",
      "Ukraine demands Red Cross visits notorious prison=>President Zelensky's chief of staff said a visit to Olenivka should be made within three days.\n",
      "******************************************\n",
      "Russian commanders discussed using nuclear arms in Ukraine, says US=>Military leaders are said to have talked about how and when they might use the weapons in Ukraine.\n",
      "******************************************\n",
      "Russian dirty bomb claims 'feel like scare tactics'=>The BBC's Paul Adams asks what is behind Russian claims Ukraine may use a so-called dirty bomb.\n",
      "******************************************\n",
      "US reminds pro-Putin Hungary it's a Western ally=>The US embassy hits back at anti-American remarks from Viktor Orban's government over the Ukraine war.\n",
      "******************************************\n",
      "Ukrainian troops under close gunfire=>War in eastern Ukraine involves not only artillery strikes, but close combat, as the BBC's Jonathan Beale finds.\n",
      "******************************************\n",
      "Putin vows to 'stabilise' annexed regions as Ukraine makes gains=>Ukraine continues to take back territory from Russia but Moscow says it will regain it.\n",
      "******************************************\n",
      "Ukraine war: Liberated town shows human cost of Russia's defeat=>The BBC's Orla Guerin finds desolate scenes in Lyman, a town Ukraine recaptured from Russia.\n",
      "******************************************\n",
      "Ukraine war: UN General Assembly condemns Russia annexation=>The overwhelming vote saw 143 countries condemn Russia's attempt to annex four regions of Ukraine.\n",
      "******************************************\n",
      "Ukraine war: UN nuclear watchdog to inspect Ukrainian sites=>The visit comes after Russian accusations that Kyiv is planning to use so-called dirty bombs.\n",
      "******************************************\n",
      "Ukraine round-up: Power and water hit as grain ships call Russian bluff=>Russia strikes key power and water facilities across Ukraine and pulls out of a deal facilitating exports.\n",
      "******************************************\n",
      "Ukraine war: Russian spy chief blames West for nuclear tension=>The head of Russia's foreign intelligence service falsely accuses the West of nuclear war threats.\n",
      "******************************************\n",
      "Ukraine war: South Africa refuses to seize sanctioned Russian superyacht=>Pretoria says it sees no reason to seize the yacht owned by Russia's richest man, Alexei Mordashov.\n",
      "******************************************\n",
      "Ukraine war: Kyiv water supply restored but blackouts remain=>Parts of Kyiv fall dark, despite power and water being restored after Russian attacks on Monday.\n",
      "******************************************\n",
      "Ukraine war: Russia halts grain deal after 'massive' Black Sea Fleet attack=>The UN says it is vital not to imperil the deal, as Ukraine accuses Russia of \"inventing attacks\".\n",
      "******************************************\n",
      "Ukraine war: BBC journalist ducks as explosions hit central Kyiv=>Hugo Bachega delivers a news report as several explosions happen in the centre of Ukraine's capital.\n",
      "******************************************\n",
      "Crimean bridge: Excitement and fear in Ukraine after bridge blast=>The sight of the crippled bridge is a morale boost - but fear remains, writes the BBC's Paul Adams.\n",
      "******************************************\n",
      "Ukraine war: Rescuers save family members from Zaporizhzhia rubble=>Video released by Ukrainian emergency services shows family members rescued from the debris of a residential building, following a Russian missile strike.\n",
      "******************************************\n",
      "War in Ukraine: Is Russia’s stock of weapons running low?=>Some security experts say Russia's supplies are stretched, especially of modern missiles.\n",
      "******************************************\n",
      "Ukraine war: Multiple explosions heard in central Kyiv=>Several explosions were heard in the city on Monday, one week after a barrage of Russian strikes on Ukraine.\n",
      "******************************************\n",
      "Ukraine war: Tales of endurance and hardship as winter looms=>Ukrainian civilians and troops paint a picture of endurance and hardship as winter approaches.\n",
      "******************************************\n",
      "Ukraine designers fight back at Paris Fashion Week=>How Ukraine's \"indomitable\" fashion designers are showcasing their work in the French capital.\n",
      "******************************************\n",
      "Ukraine war: Russia air strikes target more power facilities=>Amid military reverses in the south, Russia continues its effort to cripple Ukraine's energy grid.\n",
      "******************************************\n",
      "Russian-installed Kherson leader in evacuation plea amid Ukraine advance=>Civilians in the Russian-occupied region are urged to \"save themselves\" from Ukrainian rocket attacks.\n",
      "******************************************\n",
      "Ukraine war: We secretly filmed our lives in occupied Kherson=>Dmytro Bahnenko secretly recorded his family's experience of occupation by Russian troops\n",
      "******************************************\n",
      "Ukraine war: Zelensky calls for more sanctions after 'new wave of terror'=>Ukraine's president calls for even tougher sanctions against Russia after heavy missile strikes.\n",
      "******************************************\n",
      "Ukraine war round-up: Azov fighter captivity horrors and Russia's Gen Armageddon=>Captured fighters accuse Russia of \"inhumane\" conditions - and who is Russia's new top commander?\n",
      "******************************************\n",
      "Ukraine war round-up: A drone attack and a fire engine delivery=>Russia dive-bombs Kyiv with drones and UK firefighters deliver engines for their Ukrainian colleagues.\n",
      "******************************************\n",
      "Ukraine-Russia war: G7 countries will back Kyiv 'for as long as it takes'=>The group also warned that any attack on Western infrastructure would face a \"determined response\".\n",
      "******************************************\n",
      "Ukraine war: Biden says nuclear risk highest since 1962 Cuban Missile Crisis=>Joe Biden says President Putin was \"not joking\" when he spoke of using tactical nuclear weapons.\n",
      "******************************************\n",
      "Ukraine war: 'Mother, I'm scared' - Zaporizhzhia city devastated by rocket attacks=>Survivors retell their horrors after deadly attacks on the southern Zaporizhzhia city blamed on Russia.\n",
      "******************************************\n",
      "Ukraine war: The families who made it through the new Iron Curtain=>The families fleeing Russian-occupied areas speak of their hopes and fears as the border hardens.\n",
      "******************************************\n",
      "Ukraine round-up: Putin watches nuclear tests and a row over a superyacht=>The president oversees nuclear tests while an oligarch's luxury yacht sparks anger in Cape Town.\n",
      "******************************************\n",
      "Ukraine round-up: Refugees urged to stay away and 'dirty bomb' claims=>What is inside a 'dirty bomb' and an urgent request to Ukrainians not to return.\n",
      "******************************************\n",
      "Ukraine war: Kyiv set for longer power cuts after air strikes=>Russian strikes on energy infrastructure leave Ukrainians facing power cuts of more than four hours.\n",
      "******************************************\n",
      "Ukraine war: Liberating towns is a shot in the arm for Ukrainian troops=>The BBC's defence correspondent meets the people of a retaken town - and the soldiers who freed it.\n",
      "******************************************\n",
      "Ukrainians told to 'charge everything' as power grid hit by Russia=>Ukraine's grid operator warns of many power cuts after Russian missiles damaged energy facilities.\n",
      "******************************************\n",
      "Ukraine's day of missile strikes in a minute=>Russia launches revenge attacks across several Ukrainian regions, including capital city Kyiv.\n",
      "******************************************\n",
      "Crimea bridge: Russia 'to repair blast damage by July 2023'=>The Russian government says work on the vital blast-hit bridge must be finished by July 2023.\n",
      "******************************************\n",
      "Zaporizhzhia attack: Russian shelling in 'annexed' city kills 17=>The city is controlled by Ukrainian forces, but is in a region illegally annexed by Russia.\n",
      "******************************************\n",
      "What is Vladimir Putin thinking and planning?=>Getting in his mind is a thankless task - but we should try, writes the BBC's Steve Rosenberg.\n",
      "******************************************\n",
      "World faces most dangerous decade since WW2 - Putin=>Russia's president says the West is unable to stay in charge, but is \"desperately trying\" to cling on.\n",
      "******************************************\n",
      "Putin decree is doubling down as pressure grows=>Vladimir Putin is tightening security across Russia, with the introduction of different security levels.\n",
      "******************************************\n",
      "The exiled Russian journalists challenging Kremlin censorship=>A punitive law has led to the mass exodus of journalists from Russia.\n",
      "******************************************\n",
      "Wheat shortage: Baker's mission to reinvent bread in Senegal=>Instead of relying on imported wheat, they’re starting to experiment with recipes using locally grown crops.\n",
      "******************************************\n",
      "Kyiv told to save electricity after Russian missile strike=>A power installation near Ukraine's capital was heavily damaged by another Russian missile strike.\n",
      "******************************************\n",
      "John Simpson: Zelensky strikes all the right notes=>A quiet, charming, unassuming man - and arguably the most popular leader on Earth.\n",
      "******************************************\n",
      "Rishi Sunak: World leaders welcome next UK prime minister=>Leaders and commentators around the world welcomed Mr Sunak as the UK's next prime minister.\n",
      "******************************************\n",
      "Gas taps can be still turned on to EU, says Vladimir Putin=>The Russian president says the \"ball is in the EU's court\", but Germany quickly rejects the offer.\n",
      "******************************************\n",
      "Europe energy crisis: Italians told to turn thermostats down=>Italy becomes the latest European country to impose energy-saving rules ahead of winter.\n",
      "******************************************\n",
      "Shell beats forecasts as profits more than double=>The energy giant reported $9.5bn in profits though growth is slower than record figures this year.\n",
      "******************************************\n",
      "Russia ends civilian pull-out before Kherson battle=>An eight-day operation ends in Kherson city as Russian officials prepare for a Ukrainian attack.\n",
      "******************************************\n",
      "Russian court rejects Brittney Griner appeal over jail term=>The US basketball star argued her nine-year jail term was disproportionate, but the court upheld the sentence.\n",
      "******************************************\n",
      "Silvio Berlusconi boasts of closeness to Vladimir Putin=>A leaked audio recording of the former PM threatens to cause another headache for Italy's Giorgia Meloni.\n",
      "******************************************\n",
      "Euro 2024 qualifying: England drawn with Italy, Scotland, Wales and Northern Ireland discover groups=>England are drawn in the same group as Italy - the team that beat them in the Euro 2020 final - in qualifying for Euro 2024 in Germany.\n",
      "******************************************\n",
      "Inflation in Turkey surges to 83%=>Independent experts estimate that rates could actually be closer to 186%.\n",
      "******************************************\n",
      "Ukraine war: Russia-West clash warning and World Cup bid - round-up=>US aid for Ukraine may lead to a military clash between Russia and the West and Ukraine offers to host major football.\n",
      "******************************************\n",
      "Russian general: Situation in Ukraine 'tense'=>The commander of Russian forces in Ukraine appears to admit difficulties in occupied regions.\n",
      "******************************************\n",
      "Ukraine tank breakthrough in south towards Kherson=>Russian officials say Ukrainian armour has made advances in the south and east.\n",
      "******************************************\n",
      "Svalbard: The race to save the fastest-warming place on Earth=>Svalbard, a Norwegian archipelago, is thought to be heating at six times the global average.\n",
      "******************************************\n",
      "Ukraine war: Kyiv locals queue for water after Russian strikes=>Missiles on key facilities across Ukraine on Monday cause power cuts and water shortages.\n",
      "******************************************\n",
      "Ukraine war: Kyiv locals seen queuing for water=>Russian missiles struck key facilities across Ukraine cutting off water for many people in the capital.\n",
      "******************************************\n",
      "Ukraine war round-up: Inside Putin's head and Crimea bridge arrests=>Russia continues its shelling of Ukraine as it arrests eight people over the Crimean bridge attack.\n",
      "******************************************\n",
      "Ukraine war: Russian glee at missile flurry after Crimea bridge attack=>The strikes across Ukraine follow a bridge attack which pushed Moscow officials' dismay to a peak.\n",
      "******************************************\n",
      "Ukraine war: Putin says no more massive strike - for now=>The Russian president says it is not his aim to destroy Ukraine, despite recent heavy bombardments.\n",
      "******************************************\n",
      "Ukraine round-up: Nobel peace prize and Putin's fading dreams=>Activists from Belarus, Russia and Ukraine have won the Nobel Peace Prize, while Putin faces setbacks.\n",
      "******************************************\n",
      "Ukraine war: US says Iranian drones breach sanctions=>Western allies accuse Iran of supplying the explosive drones to Russia for attacks on Ukraine.\n",
      "******************************************\n",
      "Ukraine round-up: Defence of Kherson and 'dirty bomb'=>Ukraine says Russia is beefing up its defence of Kherson, and Nato dismisses Russia's claim about a Ukrainian \"dirty bomb\".\n",
      "******************************************\n",
      "Ukraine war: Russia warns US of direct military clash risk=>Moscow says a US decision to send more military aid to Ukraine is an \"immediate threat\" to Russia.\n",
      "******************************************\n",
      "Elon Musk denies he spoke to Putin about Ukraine war=>The Tesla boss has denied reports he spoke to the Russian leader before tweeting about the Ukraine war.\n",
      "******************************************\n",
      "Ukraine war: Growing Russia-Iran ties pose new dangers=>The conflict has driven them closer together in a way which could impact the world beyond Ukraine.\n",
      "******************************************\n",
      "Ukraine war: Kyiv denounces Russia's 'dirty bomb' claims=>Kyiv says Russia may be planning provocations with conventional explosives with radioactive material.\n",
      "******************************************\n",
      "Ukraine war: Kyiv residents adapting to night-time power cuts=>People living in Ukraine's capital Kyiv are having to get used to living in a much darker environment.\n",
      "******************************************\n",
      "Democrats retract call for Biden change of course on Ukraine=>The letter, calling for the US to negotiate directly with Russia, provoked backlash within the party.\n",
      "******************************************\n",
      "Belarus, Ukraine, Russia activists win Nobel Peace Prize=>The peace prize goes to Ales Bialiatsky, Russia's Memorial and the Ukrainian Center for Civil Liberties.\n",
      "******************************************\n",
      "Ukraine round-up: Kyiv strikes and German spy chief fired=>The capital Kyiv is hit again and President Zelensky says 30% of power stations have been destroyed.\n",
      "******************************************\n",
      "Ukraine round-up: Kherson evacuation and Putin's letters to Berlusconi=>Russia's removal of people from Kherson comes as it said the situation in the city was \"difficult\".\n",
      "******************************************\n",
      "Shock and horror after Russia's wave of strikes across Ukraine=>Russia's latest attacks have left shell-shocked residents and fiery debris, says Paul Adams in Kyiv.\n",
      "******************************************\n",
      "How Ukraine is winning the social media war=>Despite civilian and military bloodshed, Ukraine's online information war keeps a sense of humour.\n",
      "******************************************\n",
      "Why Russia is cheering on the Burkina Faso coup=>Russian mercenaries look set to profit from the new junta that has seized power in Burkina Faso.\n",
      "******************************************\n",
      "Ethiopia's Tigray conflict: Civilian bloodbath warning as offensive escalates=>Cities in Tigray are reportedly being carpet bombed as food and medical supplies are running out.\n",
      "******************************************\n",
      "Ukraine war: Russia deploys dozens of drones in two days - Zelensky=>The Ukrainian president gives his latest address standing next to the wreckage of a destroyed drone.\n",
      "******************************************\n",
      "Ukraine says mass burial sites found in retaken town of Lyman=>A Ukrainian official said two sites were found near Lyman, with one estimated to hold 200 dead.\n",
      "******************************************\n",
      "Ukraine Azovstal: Released man says Azov fighters kept in inhumane conditions by Russia=>A Ukrainian fighter besieged at Mariupol tells the BBC he was held in solitary confinement by Russia.\n",
      "******************************************\n",
      "Ukraine war: Lyman retreat sparks rare criticism of Russian top brass=>Some pro-war Russians are tiring of what they perceive to be an overly cautious military leadership.\n",
      "******************************************\n",
      "Ukraine prisoner of war: 'I ask God that he doesn't get tortured'=>The family of Leonid Yevseyev, a Ukrainian prisoner of war, still hope for his safe return.\n",
      "******************************************\n",
      "Ukraine war: World must act now to stop Russia, says Zelensky=>In a BBC interview, Ukraine's president says urgent action is needed amid Russian nuclear threats.\n",
      "******************************************\n",
      "Ukraine war: Zelensky accuses Russia of plot to blow up dam=>Ukraine's leader wars of a \"large-scale disaster\" if Russia targets the Kakhovka hydroelectric plant.\n",
      "******************************************\n",
      "Krasovsky: Russia bans 'burn Ukrainian kids' TV presenter=>Russian state TV suspends a famous presenter - but its anti-Ukrainian rhetoric continues.\n",
      "******************************************\n",
      "Climate change: UN warns key warming threshold slipping from sight=>The past 12 months have been a \"wasted year\" on climate change says the UN Environment Programme.\n",
      "******************************************\n"
     ]
    }
   ],
   "source": [
    "#Check Net Connectivity\n",
    "from newsapi import NewsApiClient\n",
    "key = '5a9de317cca44fadb266240153755300'\n",
    "z = \"FLYNN: Hillary Clinton, Big Woman on Campus - Breitbart\"\n",
    "\n",
    "newsapi = NewsApiClient(api_key=key)\n",
    "all_articles = newsapi.get_everything(q = 'Ukraine',sources='bbc-news',domains='bbc.co.uk',language='en')\n",
    "\n",
    "articles = all_articles['articles']\n",
    "for article in articles:\n",
    "    print(article['title']+'=>'+article['description'])\n",
    "    print('******************************************')"
   ]
  },
  {
   "cell_type": "code",
   "execution_count": 66,
   "metadata": {},
   "outputs": [
    {
     "name": "stdout",
     "output_type": "stream",
     "text": [
      "[1]\n"
     ]
    }
   ],
   "source": [
    "fake_news_det('More than 10,000 people donated to the fund, which will supply a modernised T-72 tank named Tomas')"
   ]
  },
  {
   "cell_type": "code",
   "execution_count": 67,
   "metadata": {},
   "outputs": [
    {
     "name": "stdout",
     "output_type": "stream",
     "text": [
      "[1]\n"
     ]
    }
   ],
   "source": [
    "fake_news_det('''House Dem Aide: We Didn’t Even See Comey’s Letter Until Jason Chaffetz Tweeted It By Darrell Lucus on October 30, 2016 Subscribe Jason Chaffetz on the stump in American Fork, Utah ( image courtesy Michael Jolley, available under a Creative Commons-BY license) \n",
    "With apologies to Keith Olbermann, there is no doubt who the Worst Person in The World is this week–FBI Director James Comey. But according to a House Democratic aide, it looks like we also know who the second-worst person is as well. It turns out that when Comey sent his now-infamous letter announcing that the FBI was looking into emails that may be related to Hillary Clinton’s email server, the ranking Democrats on the relevant committees didn’t hear about it from Comey. They found out via a tweet from one of the Republican committee chairmen. \n",
    "As we now know, Comey notified the Republican chairmen and Democratic ranking members of the House Intelligence, Judiciary, and Oversight committees that his agency was reviewing emails it had recently discovered in order to see if they contained classified information. Not long after this letter went out, Oversight Committee Chairman Jason Chaffetz set the political world ablaze with this tweet. FBI Dir just informed me, \"\"The FBI has learned of the existence of emails that appear to be pertinent to the investigation.\"\" Case reopened \n",
    "— Jason Chaffetz (@jasoninthehouse) October 28, 2016 \n",
    "Of course, we now know that this was not the case . Comey was actually saying that it was reviewing the emails in light of “an unrelated case”–which we now know to be Anthony Weiner’s sexting with a teenager. But apparently such little things as facts didn’t matter to Chaffetz. The Utah Republican had already vowed to initiate a raft of investigations if Hillary wins–at least two years’ worth, and possibly an entire term’s worth of them. Apparently Chaffetz thought the FBI was already doing his work for him–resulting in a tweet that briefly roiled the nation before cooler heads realized it was a dud. \n",
    "But according to a senior House Democratic aide, misreading that letter may have been the least of Chaffetz’ sins. That aide told Shareblue that his boss and other Democrats didn’t even know about Comey’s letter at the time–and only found out when they checked Twitter. “Democratic Ranking Members on the relevant committees didn’t receive Comey’s letter until after the Republican Chairmen. In fact, the Democratic Ranking Members didn’ receive it until after the Chairman of the Oversight and Government Reform Committee, Jason Chaffetz, tweeted it out and made it public.” \n",
    "So let’s see if we’ve got this right. The FBI director tells Chaffetz and other GOP committee chairmen about a major development in a potentially politically explosive investigation, and neither Chaffetz nor his other colleagues had the courtesy to let their Democratic counterparts know about it. Instead, according to this aide, he made them find out about it on Twitter. \n",
    "There has already been talk on Daily Kos that Comey himself provided advance notice of this letter to Chaffetz and other Republicans, giving them time to turn on the spin machine. That may make for good theater, but there is nothing so far that even suggests this is the case. After all, there is nothing so far that suggests that Comey was anything other than grossly incompetent and tone-deaf. \n",
    "What it does suggest, however, is that Chaffetz is acting in a way that makes Dan Burton and Darrell Issa look like models of responsibility and bipartisanship. He didn’t even have the decency to notify ranking member Elijah Cummings about something this explosive. If that doesn’t trample on basic standards of fairness, I don’t know what does. \n",
    "Granted, it’s not likely that Chaffetz will have to answer for this. He sits in a ridiculously Republican district anchored in Provo and Orem; it has a Cook Partisan Voting Index of R+25, and gave Mitt Romney a punishing 78 percent of the vote in 2012. Moreover, the Republican House leadership has given its full support to Chaffetz’ planned fishing expedition. But that doesn’t mean we can’t turn the hot lights on him. After all, he is a textbook example of what the House has become under Republican control. And he is also the Second Worst Person in the World. About Darrell Lucus \n",
    "Darrell is a 30-something graduate of the University of North Carolina who considers himself a journalist of the old school. An attempt to turn him into a member of the religious right in college only succeeded in turning him into the religious right's worst nightmare--a charismatic Christian who is an unapologetic liberal. His desire to stand up for those who have been scared into silence only increased when he survived an abusive three-year marriage. You may know him on Daily Kos as Christian Dem in NC . Follow him on Twitter @DarrellLucus or connect with him on Facebook . Click here to buy Darrell a Mello Yello. Connect''')"
   ]
  },
  {
   "cell_type": "code",
   "execution_count": 68,
   "metadata": {},
   "outputs": [],
   "source": [
    "import pickle\n",
    "pickle.dump(classifier,open('model.pkl','wb'))"
   ]
  },
  {
   "cell_type": "code",
   "execution_count": 69,
   "metadata": {},
   "outputs": [],
   "source": [
    "loaded_model = pickle.load(open('model.pkl','rb'))"
   ]
  },
  {
   "cell_type": "code",
   "execution_count": 70,
   "metadata": {},
   "outputs": [],
   "source": [
    "pickle.dump(tfidf_x_train,open('tfidf.pickle','wb'))\n",
    "pickle.dump(tfid_x_train,open('tfid_x_train.pickle','wb'))\n",
    "pickle.dump(tfid_x_test,open('tfid_x_test.pickle','wb'))"
   ]
  },
  {
   "cell_type": "code",
   "execution_count": null,
   "metadata": {},
   "outputs": [],
   "source": [
    " "
   ]
  }
 ],
 "metadata": {
  "kernelspec": {
   "display_name": "Python 3.8.10 64-bit",
   "language": "python",
   "name": "python3"
  },
  "language_info": {
   "codemirror_mode": {
    "name": "ipython",
    "version": 3
   },
   "file_extension": ".py",
   "mimetype": "text/x-python",
   "name": "python",
   "nbconvert_exporter": "python",
   "pygments_lexer": "ipython3",
   "version": "3.8.10"
  },
  "orig_nbformat": 4,
  "vscode": {
   "interpreter": {
    "hash": "d03139e8fec488e072ac0d8d77925b0b30bece18eb6f16c81be93cca2214b265"
   }
  }
 },
 "nbformat": 4,
 "nbformat_minor": 2
}
